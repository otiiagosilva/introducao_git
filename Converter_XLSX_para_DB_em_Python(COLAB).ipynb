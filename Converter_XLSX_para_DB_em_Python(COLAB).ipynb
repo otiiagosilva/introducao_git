{
  "nbformat": 4,
  "nbformat_minor": 0,
  "metadata": {
    "colab": {
      "provenance": [],
      "authorship_tag": "ABX9TyMfvYQaTEfKVP1D+spf9HgE",
      "include_colab_link": true
    },
    "kernelspec": {
      "name": "python3",
      "display_name": "Python 3"
    },
    "language_info": {
      "name": "python"
    }
  },
  "cells": [
    {
      "cell_type": "markdown",
      "metadata": {
        "id": "view-in-github",
        "colab_type": "text"
      },
      "source": [
        "<a href=\"https://colab.research.google.com/github/otiiagosilva/introducao_git/blob/main/Converter_XLSX_para_DB_em_Python(COLAB).ipynb\" target=\"_parent\"><img src=\"https://colab.research.google.com/assets/colab-badge.svg\" alt=\"Open In Colab\"/></a>"
      ]
    },
    {
      "cell_type": "code",
      "source": [
        "from google.colab import files\n",
        "\n",
        "uploaded = files.upload()"
      ],
      "metadata": {
        "id": "Ptm_NsQ3fWpv"
      },
      "execution_count": null,
      "outputs": []
    },
    {
      "cell_type": "code",
      "source": [
        "!pip install pandas openpyxl"
      ],
      "metadata": {
        "id": "-NS13PwMfhVg"
      },
      "execution_count": null,
      "outputs": []
    },
    {
      "cell_type": "code",
      "execution_count": 13,
      "metadata": {
        "id": "n9twy37iewyD"
      },
      "outputs": [],
      "source": [
        "import pandas as pd\n",
        "import sqlite3\n",
        "\n",
        "# Ler o arquivo XLSX para um DataFrame\n",
        "df = pd.read_excel('emails23-05-2023.xlsx')\n",
        "\n",
        "# Conectar ao banco de dados\n",
        "conn = sqlite3.connect('dados.db')\n",
        "\n",
        "# Salvar o DataFrame no banco de dados\n",
        "df.to_sql('tabela', conn, if_exists='replace', index=False)\n",
        "\n",
        "# Fechar a conexão\n",
        "conn.close()"
      ]
    },
    {
      "cell_type": "code",
      "source": [
        "print(df)"
      ],
      "metadata": {
        "colab": {
          "base_uri": "https://localhost:8080/"
        },
        "id": "xJpgiCmfmYS4",
        "outputId": "d289887e-719d-4b9a-f0d8-72629621116c"
      },
      "execution_count": 14,
      "outputs": [
        {
          "output_type": "stream",
          "name": "stdout",
          "text": [
            "                                          Instagram ID               Username  \\\n",
            "0                                           3971929249          _otiiagosilva   \n",
            "1                                           4780382878            andreia_176   \n",
            "2                                          53059367242          carlosbispo__   \n",
            "3                                          57575952119            mary.vdavis   \n",
            "4                                           6767462729      andeerson.juunior   \n",
            "..                                                 ...                    ...   \n",
            "304                                        37282557497  fabricadesinaisvip2.0   \n",
            "305                                        36874463756     tocadolanche_pizza   \n",
            "306                                        33903635578           buck.traders   \n",
            "307                                        21533037540             laylaa4322   \n",
            "308  Free user can export first 500 records, upgrad...                    NaN   \n",
            "\n",
            "             Full name                                         Avatar pic  \\\n",
            "0          Tiago Silva  https://instagram.fbsb30-1.fna.fbcdn.net/v/t51...   \n",
            "1     Andreia Da Silva  https://instagram.fbsb30-1.fna.fbcdn.net/v/t51...   \n",
            "2         Carlos Bispo  https://instagram.fbsb30-1.fna.fbcdn.net/v/t51...   \n",
            "3           Mary Davis  https://instagram.fbsb30-1.fna.fbcdn.net/v/t51...   \n",
            "4      Anderson Junior  https://instagram.fbsb30-1.fna.fbcdn.net/v/t51...   \n",
            "..                 ...                                                ...   \n",
            "304  Fábrica de Sinais  https://instagram.fbsb30-1.fna.fbcdn.net/v/t51...   \n",
            "305    Toca do Lanche_  https://instagram.fbsb30-1.fna.fbcdn.net/v/t51...   \n",
            "306       BUCK TRADERS  https://instagram.fbsb30-1.fna.fbcdn.net/v/t51...   \n",
            "307      𝓛𝓪𝔂𝓵𝓪 𝓵𝓸𝓻𝓻𝓪𝓷𝓪  https://instagram.fbsb30-1.fna.fbcdn.net/v/t51...   \n",
            "308                NaN                                                NaN   \n",
            "\n",
            "     Followers count  Following count Public email  Posts count  \\\n",
            "0              879.0           2104.0          NaN         23.0   \n",
            "1              419.0            272.0          NaN         23.0   \n",
            "2              447.0            453.0          NaN         19.0   \n",
            "3             1723.0           7356.0          NaN         41.0   \n",
            "4              523.0           1190.0          NaN         19.0   \n",
            "..               ...              ...          ...          ...   \n",
            "304            467.0           2251.0          NaN         27.0   \n",
            "305             46.0            129.0          NaN         17.0   \n",
            "306            149.0            330.0          NaN         12.0   \n",
            "307            697.0           2460.0          NaN          0.0   \n",
            "308              NaN              NaN          NaN          NaN   \n",
            "\n",
            "     Phone country code  Phone number City Address Is private Is verified  \\\n",
            "0                   NaN           NaN  NaN     NaN         NO          No   \n",
            "1                   NaN           NaN  NaN     NaN        YES          No   \n",
            "2                   NaN           NaN  NaN     NaN        YES          No   \n",
            "3                   NaN           NaN  NaN     NaN         NO          No   \n",
            "4                   NaN           NaN  NaN     NaN         NO          No   \n",
            "..                  ...           ...  ...     ...        ...         ...   \n",
            "304                 NaN           NaN  NaN     NaN         NO          No   \n",
            "305                 NaN           NaN  NaN     NaN         NO          No   \n",
            "306                 NaN           NaN  NaN     NaN         NO          No   \n",
            "307                 NaN           NaN  NaN     NaN        YES          No   \n",
            "308                 NaN           NaN  NaN     NaN        NaN         NaN   \n",
            "\n",
            "    Is business                                       External url  \\\n",
            "0            NO                                                NaN   \n",
            "1            NO                                                NaN   \n",
            "2            NO        https://www.linkedin.com/in/carlosbispojose   \n",
            "3            NO                                                NaN   \n",
            "4            NO                                                NaN   \n",
            "..          ...                                                ...   \n",
            "304          NO                      https://t.me/sinaisgratuitoos   \n",
            "305         YES  https://api.whatsapp.com/send?phone=5561993699703   \n",
            "306          NO              https://bit.ly/BUCKTRADERS-sinaisfree   \n",
            "307          NO                                                NaN   \n",
            "308         NaN                                                NaN   \n",
            "\n",
            "                                             Biography  \n",
            "0                               Valparaiso-GO\\n30y\\n🎯📚  \n",
            "1              Pedagoga \\n24anos 🌻🦋\\nMamãe da Júlia👩‍👧  \n",
            "2    🏦 Bancário \\n✝️\"Deus é a minha força e o meu r...  \n",
            "3    👯‍♀️ Fashion Blogger\\n🔥 Aries\\n“Trying is the ...  \n",
            "4                                                  NaN  \n",
            "..                                                 ...  \n",
            "304  👔 por @roberthe62\\n📊 Opções Binárias \\n😱 90,7%...  \n",
            "305                               Faça seu pedido 🤳🏼🍕😋  \n",
            "306               Entre em nossa sala de sinais free 👇  \n",
            "307  • BR || 🌙\\n[💗] but if you never try, you'll ne...  \n",
            "308                                                NaN  \n",
            "\n",
            "[309 rows x 17 columns]\n"
          ]
        }
      ]
    }
  ]
}