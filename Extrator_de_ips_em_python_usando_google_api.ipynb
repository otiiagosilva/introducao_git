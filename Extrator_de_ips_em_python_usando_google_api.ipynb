{
  "nbformat": 4,
  "nbformat_minor": 0,
  "metadata": {
    "colab": {
      "provenance": [],
      "authorship_tag": "ABX9TyNiDrHjRfX3qOSJwMSbTEba",
      "include_colab_link": true
    },
    "kernelspec": {
      "name": "python3",
      "display_name": "Python 3"
    },
    "language_info": {
      "name": "python"
    }
  },
  "cells": [
    {
      "cell_type": "markdown",
      "metadata": {
        "id": "view-in-github",
        "colab_type": "text"
      },
      "source": [
        "<a href=\"https://colab.research.google.com/github/otiiagosilva/introducao_git/blob/main/Extrator_de_ips_em_python_usando_google_api.ipynb\" target=\"_parent\"><img src=\"https://colab.research.google.com/assets/colab-badge.svg\" alt=\"Open In Colab\"/></a>"
      ]
    },
    {
      "cell_type": "code",
      "execution_count": null,
      "metadata": {
        "id": "H8rr5MSt8m4Z"
      },
      "outputs": [],
      "source": [
        "pip install googlesearch-python"
      ]
    },
    {
      "cell_type": "code",
      "source": [
        "from googlesearch import search\n",
        "import socket\n",
        "\n",
        "def get_ip_from_url(url):\n",
        "    try:\n",
        "        ip = socket.gethostbyname(url)\n",
        "        return ip\n",
        "    except socket.gaierror:\n",
        "        return None\n",
        "\n",
        "def extract_ips_from_google(query, num_results):\n",
        "    ips = []\n",
        "    for result in search(query, num_results=num_results):\n",
        "        url = result.split('//')[-1].split('/')[0]\n",
        "        ip = get_ip_from_url(url)\n",
        "        if ip:\n",
        "            ips.append(ip)\n",
        "    return ips\n",
        "\n",
        "# Exemplo de uso\n",
        "query = 'site:google.com'\n",
        "num_results = 10\n",
        "ips = extract_ips_from_google(query, num_results)\n",
        "\n",
        "# Exibir os IPs encontrados\n",
        "for ip in ips:\n",
        "    print(ip)"
      ],
      "metadata": {
        "id": "7nxKB0PX8x8a"
      },
      "execution_count": null,
      "outputs": []
    }
  ]
}