{
  "cells": [
    {
      "cell_type": "markdown",
      "metadata": {
        "id": "view-in-github",
        "colab_type": "text"
      },
      "source": [
        "<a href=\"https://colab.research.google.com/github/otiiagosilva/introducao_git/blob/main/Modulo_04_Aula_04_Exerc%C3%ADcios_Respondido_(Renata_.ipynb\" target=\"_parent\"><img src=\"https://colab.research.google.com/assets/colab-badge.svg\" alt=\"Open In Colab\"/></a>"
      ]
    },
    {
      "cell_type": "markdown",
      "id": "24d4ace0",
      "metadata": {
        "id": "24d4ace0"
      },
      "source": [
        "# Exercícios"
      ]
    },
    {
      "cell_type": "markdown",
      "id": "b8e6d072",
      "metadata": {
        "id": "b8e6d072"
      },
      "source": [
        "### Exercício 1\n",
        "\n",
        "Suponha que você está estudando o desempenho de duas equipes de basquete, A e B. Você coleta aleatoriamente dados sobre o número de pontos que cada equipe marcou em seus últimos 10 jogos. Os dados são os seguintes:\n",
        "\n",
        "Equipe A: `[90, 82, 76, 88, 94, 89, 85, 91, 87, 80]`\n",
        "\n",
        "Equipe B: `[86, 78, 72, 84, 92, 87, 83, 89, 85, 78]`\n",
        "\n",
        "Você deseja saber se há diferença significativa entre as médias de pontos marcados pelas duas equipes.\n",
        "\n",
        "Considere um nível de significância de 5%¨."
      ]
    },
    {
      "cell_type": "code",
      "source": [
        "pip install numpy scipy"
      ],
      "metadata": {
        "id": "oDlqB5YSZF6s",
        "outputId": "f22cccbe-8bab-4200-f193-5cf4b5342ac4",
        "colab": {
          "base_uri": "https://localhost:8080/"
        }
      },
      "id": "oDlqB5YSZF6s",
      "execution_count": null,
      "outputs": [
        {
          "output_type": "stream",
          "name": "stdout",
          "text": [
            "Looking in indexes: https://pypi.org/simple, https://us-python.pkg.dev/colab-wheels/public/simple/\n",
            "Requirement already satisfied: numpy in /usr/local/lib/python3.10/dist-packages (1.22.4)\n",
            "Requirement already satisfied: scipy in /usr/local/lib/python3.10/dist-packages (1.10.1)\n"
          ]
        }
      ]
    },
    {
      "cell_type": "code",
      "execution_count": null,
      "id": "555c3295",
      "metadata": {
        "id": "555c3295",
        "outputId": "21a514a6-5bcd-4b04-9ea6-22ee1a3252d7",
        "colab": {
          "base_uri": "https://localhost:8080/"
        }
      },
      "outputs": [
        {
          "output_type": "stream",
          "name": "stdout",
          "text": [
            "Resultados do Teste t para duas amostras independentes:\n",
            "Equipe A:\n",
            "   Média: 86.20\n",
            "   Desvio Padrão: 5.49\n",
            "Equipe B:\n",
            "   Média: 83.40\n",
            "   Desvio Padrão: 5.93\n",
            "Estatística t: 1.10\n",
            "Valor-p: 0.2878\n",
            "Conclusão: Não se rejeita a hipótese nula. Não há diferença significativa entre as médias das equipes.\n"
          ]
        }
      ],
      "source": [
        "import numpy as np\n",
        "from scipy import stats\n",
        "\n",
        "# Dados das equipes A e B\n",
        "equipe_a = [90, 82, 76, 88, 94, 89, 85, 91, 87, 80]\n",
        "equipe_b = [86, 78, 72, 84, 92, 87, 83, 89, 85, 78]\n",
        "\n",
        "# Cálculo das estatísticas do teste\n",
        "n_a = len(equipe_a)\n",
        "n_b = len(equipe_b)\n",
        "media_a = np.mean(equipe_a)\n",
        "media_b = np.mean(equipe_b)\n",
        "desvio_padrao_a = np.std(equipe_a, ddof=1)\n",
        "desvio_padrao_b = np.std(equipe_b, ddof=1)\n",
        "\n",
        "# Cálculo da estatística t\n",
        "estatistica_t, p_valor = stats.ttest_ind(equipe_a, equipe_b)\n",
        "\n",
        "# Definição do nível de significância\n",
        "nivel_significancia = 0.05\n",
        "\n",
        "# Impressão dos resultados\n",
        "print(\"Resultados do Teste t para duas amostras independentes:\")\n",
        "print(\"Equipe A:\")\n",
        "print(\"   Média: {:.2f}\".format(media_a))\n",
        "print(\"   Desvio Padrão: {:.2f}\".format(desvio_padrao_a))\n",
        "print(\"Equipe B:\")\n",
        "print(\"   Média: {:.2f}\".format(media_b))\n",
        "print(\"   Desvio Padrão: {:.2f}\".format(desvio_padrao_b))\n",
        "print(\"Estatística t: {:.2f}\".format(estatistica_t))\n",
        "print(\"Valor-p: {:.4f}\".format(p_valor))\n",
        "\n",
        "# Teste de significância\n",
        "if p_valor < nivel_significancia:\n",
        "    print(\"Conclusão: Rejeita-se a hipótese nula. Há diferença significativa entre as médias das equipes.\")\n",
        "else:\n",
        "    print(\"Conclusão: Não se rejeita a hipótese nula. Não há diferença significativa entre as médias das equipes.\")"
      ]
    },
    {
      "cell_type": "markdown",
      "id": "c1d1b6bc",
      "metadata": {
        "id": "c1d1b6bc"
      },
      "source": [
        "### Exercício 2\n",
        "\n",
        "Suponha que você está estudando o efeito de um novo tratamento em pacientes com pressão alta. Você seleciona aleatoriamente 10 pacientes e mede sua pressão arterial antes e depois de receberem o tratamento. Os dados são os seguintes:\n",
        "\n",
        "| Paciente | Pressão arterial antes | Pressão arterial depois |\n",
        "| --- | --- | --- |\n",
        "| 1\t| 140 |\t130 |\n",
        "| 2\t| 132 |\t128 |\n",
        "| 3\t| 136 |\t132 |\n",
        "| 4\t| 142 |\t138 |\n",
        "| 5\t| 138 |\t132 |\n",
        "| 6\t| 130 |\t126 |\n",
        "| 7\t| 146 |\t142 |\n",
        "| 8\t| 134 |\t130 |\n",
        "| 9\t| 128 |\t124 |\n",
        "| 10 | 144 | 140 |\n",
        "\n",
        "Você deseja saber se o tratamento teve um efeito significativo na pressão arterial dos pacientes.\n",
        "\n",
        "Considere nível de significância (alpha) = 5%"
      ]
    },
    {
      "cell_type": "code",
      "execution_count": null,
      "id": "b6cf9939",
      "metadata": {
        "id": "b6cf9939",
        "outputId": "6e5b403c-7c53-4975-fcc8-9f3d0c88a52d",
        "colab": {
          "base_uri": "https://localhost:8080/"
        }
      },
      "outputs": [
        {
          "output_type": "stream",
          "name": "stdout",
          "text": [
            "Resultados do Teste t pareado:\n",
            "Média das diferenças: 4.80\n",
            "Desvio Padrão das diferenças: 1.93\n",
            "Estatística t: 7.86\n",
            "Valor-p: 0.0000\n",
            "Conclusão: Rejeita-se a hipótese nula. O tratamento teve um efeito significativo na pressão arterial.\n"
          ]
        }
      ],
      "source": [
        "import numpy as np\n",
        "from scipy import stats\n",
        "\n",
        "# Dados dos pacientes\n",
        "pressao_antes = [140, 132, 136, 142, 138, 130, 146, 134, 128, 144]\n",
        "pressao_depois = [130, 128, 132, 138, 132, 126, 142, 130, 124, 140]\n",
        "\n",
        "# Cálculo das diferenças entre as medições antes e depois\n",
        "diferencas = np.array(pressao_antes) - np.array(pressao_depois)\n",
        "\n",
        "# Cálculo das estatísticas do teste\n",
        "media_diferencas = np.mean(diferencas)\n",
        "desvio_padrao_diferencas = np.std(diferencas, ddof=1)\n",
        "n = len(diferencas)\n",
        "\n",
        "# Cálculo da estatística t e valor-p\n",
        "estatistica_t, p_valor = stats.ttest_1samp(diferencas, 0)\n",
        "\n",
        "# Definição do nível de significância\n",
        "nivel_significancia = 0.05\n",
        "\n",
        "# Impressão dos resultados\n",
        "print(\"Resultados do Teste t pareado:\")\n",
        "print(\"Média das diferenças: {:.2f}\".format(media_diferencas))\n",
        "print(\"Desvio Padrão das diferenças: {:.2f}\".format(desvio_padrao_diferencas))\n",
        "print(\"Estatística t: {:.2f}\".format(estatistica_t))\n",
        "print(\"Valor-p: {:.4f}\".format(p_valor))\n",
        "\n",
        "# Teste de significância\n",
        "if p_valor < nivel_significancia:\n",
        "    print(\"Conclusão: Rejeita-se a hipótese nula. O tratamento teve um efeito significativo na pressão arterial.\")\n",
        "else:\n",
        "    print(\"Conclusão: Não se rejeita a hipótese nula. Não há evidência de um efeito significativo do tratamento na pressão arterial.\")"
      ]
    },
    {
      "cell_type": "markdown",
      "id": "72fc816d",
      "metadata": {
        "id": "72fc816d"
      },
      "source": [
        "### Exercício 3\n",
        "\n",
        "Suponha que você trabalha em uma empresa de eletrônicos e está testando dois tipos diferentes de baterias para smartphones. Você seleciona aleatoriamente 30 smartphones e os divide em dois grupos de 15. Um grupo recebe a bateria do tipo A e o outro recebe a bateria do tipo B. Você mede a duração da bateria em horas e os resultados são os seguintes:\n",
        "\n",
        "Grupo A: 15, 12, 13, 14, 17, 12, 13, 14, 16, 18, 16, 14, 13, 14, 12\n",
        "Grupo B: 18, 17, 19, 16, 20, 17, 18, 20, 21, 22, 17, 19, 18, 20, 19\n",
        "\n",
        "Você deseja saber se há uma diferença significativa na duração da bateria entre os dois tipos de bateria.\n",
        "\n",
        "Considere nível de significância (alpha) = 1%"
      ]
    },
    {
      "cell_type": "code",
      "execution_count": null,
      "id": "84a4518f",
      "metadata": {
        "id": "84a4518f",
        "outputId": "31372030-f33b-4af4-b56f-95aac80ccf74",
        "colab": {
          "base_uri": "https://localhost:8080/"
        }
      },
      "outputs": [
        {
          "output_type": "stream",
          "name": "stdout",
          "text": [
            "Resultados do Teste t independente:\n",
            "Média do Grupo A: 14.20\n",
            "Desvio Padrão do Grupo A: 1.86\n",
            "Tamanho do Grupo A: 15\n",
            "\n",
            "Média do Grupo B: 18.73\n",
            "Desvio Padrão do Grupo B: 1.67\n",
            "Tamanho do Grupo B: 15\n",
            "\n",
            "Estatística t: -7.03\n",
            "Valor-p: 0.0000\n",
            "Conclusão: Rejeita-se a hipótese nula. Há uma diferença significativa na duração da bateria entre os dois tipos.\n"
          ]
        }
      ],
      "source": [
        "import numpy as np\n",
        "from scipy import stats\n",
        "\n",
        "# Dados dos grupos A e B\n",
        "grupo_A = [15, 12, 13, 14, 17, 12, 13, 14, 16, 18, 16, 14, 13, 14, 12]\n",
        "grupo_B = [18, 17, 19, 16, 20, 17, 18, 20, 21, 22, 17, 19, 18, 20, 19]\n",
        "\n",
        "# Cálculo das estatísticas do teste\n",
        "media_A = np.mean(grupo_A)\n",
        "desvio_padrao_A = np.std(grupo_A, ddof=1)\n",
        "n_A = len(grupo_A)\n",
        "\n",
        "media_B = np.mean(grupo_B)\n",
        "desvio_padrao_B = np.std(grupo_B, ddof=1)\n",
        "n_B = len(grupo_B)\n",
        "\n",
        "# Cálculo da estatística t e valor-p\n",
        "estatistica_t, p_valor = stats.ttest_ind(grupo_A, grupo_B)\n",
        "\n",
        "# Definição do nível de significância\n",
        "nivel_significancia = 0.01\n",
        "\n",
        "# Impressão dos resultados\n",
        "print(\"Resultados do Teste t independente:\")\n",
        "print(\"Média do Grupo A: {:.2f}\".format(media_A))\n",
        "print(\"Desvio Padrão do Grupo A: {:.2f}\".format(desvio_padrao_A))\n",
        "print(\"Tamanho do Grupo A: {}\".format(n_A))\n",
        "print()\n",
        "print(\"Média do Grupo B: {:.2f}\".format(media_B))\n",
        "print(\"Desvio Padrão do Grupo B: {:.2f}\".format(desvio_padrao_B))\n",
        "print(\"Tamanho do Grupo B: {}\".format(n_B))\n",
        "print()\n",
        "print(\"Estatística t: {:.2f}\".format(estatistica_t))\n",
        "print(\"Valor-p: {:.4f}\".format(p_valor))\n",
        "\n",
        "# Teste de significância\n",
        "if p_valor < nivel_significancia:\n",
        "    print(\"Conclusão: Rejeita-se a hipótese nula. Há uma diferença significativa na duração da bateria entre os dois tipos.\")\n",
        "else:\n",
        "    print(\"Conclusão: Não se rejeita a hipótese nula. Não há evidência de uma diferença significativa na duração da bateria entre os dois tipos.\")\n"
      ]
    },
    {
      "cell_type": "markdown",
      "id": "f2242fc9",
      "metadata": {
        "id": "f2242fc9"
      },
      "source": [
        "### Exercício 4\n",
        "\n",
        "Suponha que você é um pesquisador que está interessado em saber se há uma diferença significativa na idade média entre dois grupos de pessoas que participaram de um estudo sobre saúde. O grupo 1 é composto por 50 pessoas e tem uma idade média de 35 anos com um desvio padrão de 5 anos. O grupo 2 é composto por 40 pessoas e tem uma idade média de 40 anos com um desvio padrão de 6 anos. Use um nível de significância de 5% e teste a hipótese nula de que não há diferença significativa na idade média entre os dois grupos."
      ]
    },
    {
      "cell_type": "code",
      "execution_count": null,
      "id": "4d404199",
      "metadata": {
        "id": "4d404199",
        "outputId": "8cb2b5c3-f9eb-40f5-f9dd-bec592d936f8",
        "colab": {
          "base_uri": "https://localhost:8080/"
        }
      },
      "outputs": [
        {
          "output_type": "stream",
          "name": "stdout",
          "text": [
            "Resultado do teste t independente:\n",
            "Estatística de teste: -4.312308182354339\n",
            "Valor crítico: 1.9872898646909385\n",
            "Rejeita-se a hipótese nula. Há uma diferença significativa na idade média entre os dois grupos.\n"
          ]
        }
      ],
      "source": [
        "import numpy as np\n",
        "from scipy.stats import t\n",
        "\n",
        "# Dados do grupo 1\n",
        "grupo1_idade = np.array([35] * 50)  # idade média de 35 anos\n",
        "desvio_padrao1 = 5\n",
        "\n",
        "# Dados do grupo 2\n",
        "grupo2_idade = np.array([40] * 40)  # idade média de 40 anos\n",
        "desvio_padrao2 = 6\n",
        "\n",
        "# Cálculo da estatística de teste\n",
        "n1 = len(grupo1_idade)\n",
        "n2 = len(grupo2_idade)\n",
        "media1 = np.mean(grupo1_idade)\n",
        "media2 = np.mean(grupo2_idade)\n",
        "desvio_padrao_pooled = np.sqrt(((n1 - 1) * desvio_padrao1**2 + (n2 - 1) * desvio_padrao2**2) / (n1 + n2 - 2))\n",
        "estatistica_t = (media1 - media2) / (desvio_padrao_pooled * np.sqrt(1/n1 + 1/n2))\n",
        "\n",
        "# Cálculo do valor crítico\n",
        "graus_de_liberdade = n1 + n2 - 2\n",
        "alfa = 0.05\n",
        "valor_critico = t.ppf(1 - alfa/2, graus_de_liberdade)\n",
        "\n",
        "# Impressão dos resultados\n",
        "print(\"Resultado do teste t independente:\")\n",
        "print(\"Estatística de teste:\", estatistica_t)\n",
        "print(\"Valor crítico:\", valor_critico)\n",
        "\n",
        "# Comparação da estatística de teste com o valor crítico\n",
        "if np.abs(estatistica_t) > valor_critico:\n",
        "    print(\"Rejeita-se a hipótese nula. Há uma diferença significativa na idade média entre os dois grupos.\")\n",
        "else:\n",
        "    print(\"Não há evidências suficientes para rejeitar a hipótese nula. Não há diferença significativa na idade média entre os dois grupos.\")"
      ]
    },
    {
      "cell_type": "markdown",
      "id": "99f107e6",
      "metadata": {
        "id": "99f107e6"
      },
      "source": [
        "### Exercício 5\n",
        "\n",
        "Um pesquisador está interessado em saber se há diferenças significativas no tempo de resposta de três grupos de pacientes a um determinado tratamento. Ele coletou dados de tempo de resposta de 10 pacientes em cada grupo. Os dados estão armazenados em três conjuntos de dados: grupo1, grupo2 e grupo3. Use um nível de significância de 5% e realize uma análise de variância (ANOVA) para determinar se há diferenças significativas entre as médias dos grupos.\n",
        "\n",
        "grupo1 = `[12, 14, 16, 18, 20, 22, 24, 26, 28, 30]`\n",
        "\n",
        "grupo2 = `[15, 17, 19, 21, 23, 25, 27, 29, 31, 33]`\n",
        "\n",
        "grupo3 = `[18, 20, 22, 24, 26, 28, 30, 32, 34, 36]`"
      ]
    },
    {
      "cell_type": "code",
      "execution_count": null,
      "id": "e5d40703",
      "metadata": {
        "id": "e5d40703",
        "outputId": "17104b85-8c3f-4432-8322-1240423e7afa",
        "colab": {
          "base_uri": "https://localhost:8080/"
        }
      },
      "outputs": [
        {
          "output_type": "stream",
          "name": "stdout",
          "text": [
            "Resultado da análise de variância (ANOVA):\n",
            "Valor-p: 0.1048494106064081\n",
            "Não há evidências suficientes para rejeitar a hipótese nula. Não há diferenças significativas entre as médias dos grupos.\n"
          ]
        }
      ],
      "source": [
        "from scipy.stats import f_oneway\n",
        "\n",
        "# Dados dos grupos\n",
        "grupo1 = [12, 14, 16, 18, 20, 22, 24, 26, 28, 30]\n",
        "grupo2 = [15, 17, 19, 21, 23, 25, 27, 29, 31, 33]\n",
        "grupo3 = [18, 20, 22, 24, 26, 28, 30, 32, 34, 36]\n",
        "\n",
        "# Realizando a análise de variância (ANOVA)\n",
        "resultado_anova = f_oneway(grupo1, grupo2, grupo3)\n",
        "\n",
        "# Obtendo o valor-p do teste\n",
        "valor_p = resultado_anova.pvalue\n",
        "\n",
        "# Imprimindo os resultados\n",
        "print(\"Resultado da análise de variância (ANOVA):\")\n",
        "print(\"Valor-p:\", valor_p)\n",
        "\n",
        "# Comparando o valor-p com o nível de significância\n",
        "alfa = 0.05\n",
        "if valor_p < alfa:\n",
        "    print(\"Rejeita-se a hipótese nula. Há diferenças significativas entre as médias dos grupos.\")\n",
        "else:\n",
        "    print(\"Não há evidências suficientes para rejeitar a hipótese nula. Não há diferenças significativas entre as médias dos grupos.\")"
      ]
    }
  ],
  "metadata": {
    "kernelspec": {
      "display_name": "Python 3 (ipykernel)",
      "language": "python",
      "name": "python3"
    },
    "language_info": {
      "codemirror_mode": {
        "name": "ipython",
        "version": 3
      },
      "file_extension": ".py",
      "mimetype": "text/x-python",
      "name": "python",
      "nbconvert_exporter": "python",
      "pygments_lexer": "ipython3",
      "version": "3.7.9"
    },
    "varInspector": {
      "cols": {
        "lenName": 16,
        "lenType": 16,
        "lenVar": 40
      },
      "kernels_config": {
        "python": {
          "delete_cmd_postfix": "",
          "delete_cmd_prefix": "del ",
          "library": "var_list.py",
          "varRefreshCmd": "print(var_dic_list())"
        },
        "r": {
          "delete_cmd_postfix": ") ",
          "delete_cmd_prefix": "rm(",
          "library": "var_list.r",
          "varRefreshCmd": "cat(var_dic_list()) "
        }
      },
      "types_to_exclude": [
        "module",
        "function",
        "builtin_function_or_method",
        "instance",
        "_Feature"
      ],
      "window_display": false
    },
    "colab": {
      "provenance": [],
      "include_colab_link": true
    }
  },
  "nbformat": 4,
  "nbformat_minor": 5
}