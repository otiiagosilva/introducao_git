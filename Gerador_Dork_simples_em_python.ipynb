{
  "nbformat": 4,
  "nbformat_minor": 0,
  "metadata": {
    "colab": {
      "provenance": [],
      "authorship_tag": "ABX9TyNVosF2OGYDAsO1vvsFiVFE",
      "include_colab_link": true
    },
    "kernelspec": {
      "name": "python3",
      "display_name": "Python 3"
    },
    "language_info": {
      "name": "python"
    }
  },
  "cells": [
    {
      "cell_type": "markdown",
      "metadata": {
        "id": "view-in-github",
        "colab_type": "text"
      },
      "source": [
        "<a href=\"https://colab.research.google.com/github/otiiagosilva/introducao_git/blob/main/Gerador_Dork_simples_em_python.ipynb\" target=\"_parent\"><img src=\"https://colab.research.google.com/assets/colab-badge.svg\" alt=\"Open In Colab\"/></a>"
      ]
    },
    {
      "cell_type": "code",
      "execution_count": null,
      "metadata": {
        "id": "mLznIhUC6yP_"
      },
      "outputs": [],
      "source": [
        "import itertools\n",
        "\n",
        "def generate_google_dorks(keywords, operators):\n",
        "    dorks = []\n",
        "    for operator in operators:\n",
        "        for r in range(1, len(keywords) + 1):\n",
        "            combinations = itertools.combinations(keywords, r)\n",
        "            for combination in combinations:\n",
        "                dork = ' '.join(combination) + ' ' + operator\n",
        "                dorks.append(dork)\n",
        "    return dorks\n",
        "\n",
        "# Exemplo de uso\n",
        "keywords = ['admin', 'login', 'password']\n",
        "operators = ['site:.com', 'inurl:admin', 'intitle:\"login\"']\n",
        "dorks = generate_google_dorks(keywords, operators)\n",
        "\n",
        "# Exibir os dorks gerados\n",
        "for dork in dorks:\n",
        "    print(dork)"
      ]
    }
  ]
}